{
 "cells": [
  {
   "cell_type": "code",
   "execution_count": 27,
   "id": "d8857b9d-30a5-4f82-a68b-6eaaab0a851f",
   "metadata": {},
   "outputs": [
    {
     "name": "stdout",
     "output_type": "stream",
     "text": [
      "2\n"
     ]
    }
   ],
   "source": [
    "# Problem 1.Given an array of n numbers, give an algorithm which gives the element appearing maximum number of times?\n",
    "\n",
    "def find_element_max_occ(arr):\n",
    "    if not arr:\n",
    "        return None\n",
    "    dic = {}\n",
    "    for i in range(len(arr)):\n",
    "        if arr[i] in dic:\n",
    "            dic[arr[i]]+=1\n",
    "        else:\n",
    "            dic[arr[i]]=1\n",
    "    \n",
    "    maximum=0\n",
    "    for key,value in dic.items():\n",
    "        if value>maximum:\n",
    "            maximum=value\n",
    "            element=key\n",
    "    return element\n",
    "        \n",
    "            \n",
    "\n",
    "arr = [1,2,3,2]\n",
    "print(find_element_max_occ(arr))\n"
   ]
  },
  {
   "cell_type": "code",
   "execution_count": 33,
   "id": "8e15cd9c-bff2-47bf-9d2a-688acce987be",
   "metadata": {},
   "outputs": [
    {
     "name": "stdout",
     "output_type": "stream",
     "text": [
      "5\n"
     ]
    }
   ],
   "source": [
    "# Problem 2 : We are given a list of n-1 integers and these integers are in the range of 1 to n . There are no\n",
    "# duplicates in the list. One of the integers is missing in the list. Give an algorithm to find that element Ex:\n",
    "# [1,2,4,6,3,7,8] 5 is the missing num.\n",
    "\n",
    "def findElement(arr):\n",
    "    #finding maximum and sum\n",
    "    summation = 0\n",
    "    max_value =arr[0]\n",
    "    for i in arr:\n",
    "        if i>max_value:\n",
    "            max_value=i\n",
    "        summation+=i\n",
    "        \n",
    "    #applying AP formula and comparing with summation to find missing num\n",
    "    missing_num = (max_value*(max_value+1))//2 - summation\n",
    "    \n",
    "    return (missing_num if missing_num!=0 else \"No number is missing\")\n",
    "            \n",
    "print(findElement([1,2,4,6,3,7,8]))     "
   ]
  },
  {
   "cell_type": "code",
   "execution_count": 41,
   "id": "378f3d07-f86b-4b45-89bf-472ff17b3b7c",
   "metadata": {},
   "outputs": [
    {
     "name": "stdout",
     "output_type": "stream",
     "text": [
      "3\n"
     ]
    }
   ],
   "source": [
    "# Problem 3 : Given an array of n positive numbers. All numbers occurs even number of times except 1 which\n",
    "# occurs odd number of times. Find that number in O(n) time and O(1) space. Ex: [1,2,3,2,3,1,3]. 3 is repeats odd\n",
    "# times.\n",
    "\n",
    "def findNum_odd_occ(arr):\n",
    "    result = 0\n",
    "    for i in arr:\n",
    "        result^=i\n",
    "    return result\n",
    "\n",
    "print(findNum_odd_occ([1,2,3,2,3,1,3]))"
   ]
  },
  {
   "cell_type": "code",
   "execution_count": 24,
   "id": "6895e570-276b-42ee-b312-05853d213241",
   "metadata": {},
   "outputs": [
    {
     "name": "stdout",
     "output_type": "stream",
     "text": [
      "(1, 3)\n"
     ]
    }
   ],
   "source": [
    "# Problem 4 : Given an array of n elements. Find two elements in the array such that their sum is equal to given element K.\n",
    "\n",
    "def twoSum(arr,k):\n",
    "    dic ={}\n",
    "    for i,value in enumerate(arr):\n",
    "        compliment = k-value\n",
    "        if compliment in dic:\n",
    "            return (compliment,value)\n",
    "        else:\n",
    "            dic[value]=i\n",
    "    return ()\n",
    "\n",
    "# alternate approach with O(nlogn) time complexity \n",
    "    \n",
    "#     result=[]\n",
    "#     arr.sort()\n",
    "#     left=0\n",
    "#     right=len(arr)-1\n",
    "#     while left<right:\n",
    "#         sum_ = arr[left]+arr[right]\n",
    "        \n",
    "#         if sum_ == k:\n",
    "#             result.append((arr[left],arr[right]))\n",
    "        \n",
    "#         if sum_<k:\n",
    "#             left+=1\n",
    "#         else:\n",
    "#             right-=1\n",
    "#     return result\n",
    "\n",
    "        \n",
    "print(twoSum([0,1,1,3,3],4))"
   ]
  },
  {
   "cell_type": "code",
   "execution_count": 28,
   "id": "9bbfcfde-557c-448b-8190-d64bc8d46b50",
   "metadata": {},
   "outputs": [
    {
     "name": "stdout",
     "output_type": "stream",
     "text": [
      "[(-80, 85)]\n"
     ]
    }
   ],
   "source": [
    "# Problem 5 : Given an array of both positive and negative numbers, find two numbers such that their sum is\n",
    "# closest to 0. Ex: [ 1 ,60 ,-10, 70, -80,85]. Ans : -80,85.\n",
    "\n",
    "def findNums_sum_zero(arr):\n",
    "    arr.sort()\n",
    "    result =[]\n",
    "    prev_diff =float('inf')\n",
    "    left = 0\n",
    "    right =len(arr)-1\n",
    "    while left<right:\n",
    "        diff = arr[left]+arr[right]\n",
    "        cur_diff = abs(arr[left]+arr[right])\n",
    "        \n",
    "        if cur_diff<prev_diff:\n",
    "            prev_diff = cur_diff\n",
    "            result = [(arr[left],arr[right])]\n",
    "        \n",
    "        elif cur_diff == prev_diff:\n",
    "            result.append((arr[left],arr[right]))\n",
    "        \n",
    "        if diff>0:\n",
    "            right-=1\n",
    "        else:\n",
    "            left+=1\n",
    "            \n",
    "    return result\n",
    "            \n",
    "print(findNums_sum_zero([ 1 ,60 ,-10, 70, -80,85]))\n",
    "\n",
    "      \n",
    "        "
   ]
  },
  {
   "cell_type": "code",
   "execution_count": 46,
   "id": "f41d86ff-e8ca-4c41-be2d-1a6aac21b18c",
   "metadata": {},
   "outputs": [
    {
     "name": "stdout",
     "output_type": "stream",
     "text": [
      "[(-1, -1, 2), (-1, 0, 1)]\n"
     ]
    }
   ],
   "source": [
    "# Problem 6 : Given an array of n elements . Find three elements such that their sum is equal to the given\n",
    "# number.\n",
    "\n",
    "def threeSum(arr,num):\n",
    "    result=[]\n",
    "    arr.sort()\n",
    "    size = len(arr)\n",
    "    for i in range(size-2):\n",
    "        j = i+1\n",
    "        k = len(arr)-1\n",
    "\n",
    "        if i>0 and arr[i]==arr[i-1] : continue\n",
    "        while j<k:\n",
    "            sum_ = arr[i]+arr[j]+arr[k]\n",
    "            if sum_ == num:\n",
    "                result.append((arr[i],arr[j],arr[k]))\n",
    "                k-=1\n",
    "                j+=1\n",
    "                while(j<k and arr[j]==arr[j-1]):j+=1\n",
    "                while(j<k and arr[k]==arr[k+1]):k-=1\n",
    "                \n",
    "            elif sum_>k:\n",
    "                k-=1\n",
    "            else:\n",
    "                j+=1\n",
    "                \n",
    "    return result\n",
    "    \n",
    "\n",
    "print(threeSum([-1,0,1,2,-1,-4],0))\n"
   ]
  },
  {
   "cell_type": "code",
   "execution_count": 17,
   "id": "b49dbb60-32db-4827-83ed-d404859cedbd",
   "metadata": {},
   "outputs": [
    {
     "name": "stdout",
     "output_type": "stream",
     "text": [
      "[(10, 8, 6), (5, 4, 3)]\n"
     ]
    }
   ],
   "source": [
    "# Problem 7 : Given an array of n elements . Find three elements i, j, k in the array such that\n",
    "# i * i + j * j = k*k.\n",
    "\n",
    "def findTriplet(arr):\n",
    "    arr.sort(reverse=True)\n",
    "    result=[]\n",
    "    for i in range(len(arr)-2):\n",
    "        j=i+1\n",
    "        k=len(arr)-1\n",
    "        while(j<k):\n",
    "            sum_ = arr[j]**2 + arr[k]**2\n",
    "            \n",
    "            if sum_ == arr[i]**2:\n",
    "                result.append((arr[i],arr[j],arr[k]))\n",
    "                j+=1\n",
    "                k-=1\n",
    "            \n",
    "            elif sum_>arr[i]**2:\n",
    "                j+=1\n",
    "            else:\n",
    "                k-=1\n",
    "    return result\n",
    "\n",
    "print(findTriplet([3, 4, 5, 6, 8, 10]))"
   ]
  },
  {
   "cell_type": "code",
   "execution_count": 31,
   "id": "c4497d3c-3b7e-46ad-8f0f-d491697afb28",
   "metadata": {},
   "outputs": [
    {
     "name": "stdout",
     "output_type": "stream",
     "text": [
      "1\n"
     ]
    }
   ],
   "source": [
    "# Problem 8 : An element is a majority if it appears more than n/2 times. Give an algorithm takes an array of n\n",
    "# element as argument and identifies a majority (if it exists).\n",
    "\n",
    "# Boyer-moore alogrithm\n",
    "def findMajority(arr):\n",
    "    count=0\n",
    "    candidate=None\n",
    "    for num in arr:\n",
    "        if count==0:\n",
    "            candidate=num\n",
    "        count+=1 if num==candidate else -1\n",
    "        \n",
    "    count=0\n",
    "    for num in arr:\n",
    "        if num==candidate:\n",
    "            count+=1\n",
    "            \n",
    "    return candidate if count>(len(arr))//2 else None\n",
    "    \n",
    "\n",
    "print(findMajority([3,3,4,2,2,2,2,1,1,1,1,1,1,1,1,1,1,1]))\n",
    "\n"
   ]
  },
  {
   "cell_type": "code",
   "execution_count": 16,
   "id": "e8d043c8-c02e-4267-9f6f-2e14a446d90d",
   "metadata": {},
   "outputs": [
    {
     "name": "stdout",
     "output_type": "stream",
     "text": [
      "Rows which have maximum number of zeros are:[3, 4]\n"
     ]
    }
   ],
   "source": [
    "# Problem 9 : Given n × n matrix, and in each row all 1’s are followed by 0’s. Find the row with the maximum\n",
    "# number of 0’s.\n",
    "\n",
    "def find_Row_Max_Zero(matrix):\n",
    "    row = []\n",
    "    length = len(matrix)\n",
    "    zero_count= 0\n",
    "    for i in range(length):\n",
    "        left = 0\n",
    "        right = length-1\n",
    "        while left<=right:\n",
    "            mid = left+(right-left)//2\n",
    "            \n",
    "            if matrix[i][mid]==0:\n",
    "                right = mid-1\n",
    "            else:\n",
    "                left = mid+1\n",
    "        \n",
    "        count = length-left\n",
    "        if count>zero_count:\n",
    "            zero_count=count\n",
    "            row = [i]\n",
    "            \n",
    "        elif count==zero_count and count!=0:\n",
    "            row.append(i)\n",
    "                \n",
    "    return f\"Rows which have maximum number of zeros are:{row}\"\n",
    "    \n",
    "print(find_Row_Max_Zero([\n",
    "    [1, 1, 1, 1, 0],\n",
    "    [1, 1, 1, 0, 0],\n",
    "    [1, 1, 1, 1, 1],\n",
    "    [1, 0, 0, 0, 0],\n",
    "    [1, 0, 0, 0, 0]\n",
    "]))\n"
   ]
  },
  {
   "cell_type": "code",
   "execution_count": 21,
   "id": "242c3177-db15-4f8c-bc69-a73f7fa4b9a6",
   "metadata": {},
   "outputs": [
    {
     "name": "stdout",
     "output_type": "stream",
     "text": [
      "[0, 0, 0, 0, 0, 1, 1, 1, 1, 1, 2, 2]\n"
     ]
    }
   ],
   "source": [
    "# Problem 10 : Sort an array of 0’s, 1’s and 2’s [or R’s, G’s and B’s]: Given an array A[] consisting of 0’s, 1’s and\n",
    "# 2’s, give an algorithm for sorting A[].The algorithm should put all 0’s first, then all 1’s and finally all 2’s at the\n",
    "# end. Example Input = {0,1,1,0,1,2,1,2,0,0,0,1}, Output = {0,0,0,0,0,1,1,1,1,1,2,2}\n",
    "\n",
    "#dutch national flag algo\n",
    "def sortArray(arr):\n",
    "    first = 0\n",
    "    mid = 0\n",
    "    last = len(arr)-1\n",
    "    \n",
    "    while(mid<=last):\n",
    "        if arr[mid]==0:\n",
    "            arr[first],arr[mid]=arr[mid],arr[first]\n",
    "            mid+=1\n",
    "            first+=1\n",
    "            \n",
    "        elif arr[mid]==1:\n",
    "            mid+=1\n",
    "            \n",
    "        else:\n",
    "            arr[last],arr[mid]=arr[mid],arr[last]\n",
    "            last-=1\n",
    "            \n",
    "    return arr\n",
    "    \n",
    "print(sortArray([0,1,1,0,1,2,1,2,0,0,0,1]))\n",
    "        \n"
   ]
  },
  {
   "cell_type": "code",
   "execution_count": null,
   "id": "80457063-115f-4767-9df0-aedf64476b8a",
   "metadata": {},
   "outputs": [],
   "source": []
  },
  {
   "cell_type": "code",
   "execution_count": null,
   "id": "e977d379-9b15-45cc-bdb3-3ddee9f357f9",
   "metadata": {},
   "outputs": [],
   "source": []
  }
 ],
 "metadata": {
  "kernelspec": {
   "display_name": "Python 3 (ipykernel)",
   "language": "python",
   "name": "python3"
  },
  "language_info": {
   "codemirror_mode": {
    "name": "ipython",
    "version": 3
   },
   "file_extension": ".py",
   "mimetype": "text/x-python",
   "name": "python",
   "nbconvert_exporter": "python",
   "pygments_lexer": "ipython3",
   "version": "3.10.8"
  }
 },
 "nbformat": 4,
 "nbformat_minor": 5
}
